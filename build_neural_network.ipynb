{
 "cells": [
  {
   "cell_type": "markdown",
   "metadata": {},
   "source": [
    "# Building Neural Network"
   ]
  },
  {
   "cell_type": "markdown",
   "metadata": {},
   "source": [
    "## Binary Classification"
   ]
  },
  {
   "cell_type": "code",
   "execution_count": 2,
   "metadata": {},
   "outputs": [],
   "source": [
    "# Packages\n",
    "import pandas as pd\n",
    "import numpy as np\n",
    "import matplotlib.pyplot as plt\n",
    "# import tensorflow as tf\n",
    "from tensorflow.keras.datasets import imdb # Movie review classification"
   ]
  },
  {
   "cell_type": "code",
   "execution_count": 3,
   "metadata": {},
   "outputs": [
    {
     "name": "stdout",
     "output_type": "stream",
     "text": [
      "Training data shape: (25000,)\n",
      "Test data shape: (25000,)\n"
     ]
    }
   ],
   "source": [
    "# Load data\n",
    "(train_data, train_labels), (test_data, test_labels) = imdb.load_data(num_words=10000)\n",
    "# Dataset information\n",
    "print(f\"Training data shape: {train_data.shape}\")\n",
    "print(f\"Test data shape: {test_data.shape}\")"
   ]
  },
  {
   "cell_type": "code",
   "execution_count": 4,
   "metadata": {},
   "outputs": [
    {
     "name": "stdout",
     "output_type": "stream",
     "text": [
      "First data: [1, 14, 22, 16, 43, 530, 973, 1622, 1385, 65, 458, 4468, 66, 3941, 4, 173, 36, 256, 5, 25, 100, 43, 838, 112, 50, 670, 2, 9, 35, 480, 284, 5, 150, 4, 172, 112, 167, 2, 336, 385, 39, 4, 172, 4536, 1111, 17, 546, 38, 13, 447, 4, 192, 50, 16, 6, 147, 2025, 19, 14, 22, 4, 1920, 4613, 469, 4, 22, 71, 87, 12, 16, 43, 530, 38, 76, 15, 13, 1247, 4, 22, 17, 515, 17, 12, 16, 626, 18, 2, 5, 62, 386, 12, 8, 316, 8, 106, 5, 4, 2223, 5244, 16, 480, 66, 3785, 33, 4, 130, 12, 16, 38, 619, 5, 25, 124, 51, 36, 135, 48, 25, 1415, 33, 6, 22, 12, 215, 28, 77, 52, 5, 14, 407, 16, 82, 2, 8, 4, 107, 117, 5952, 15, 256, 4, 2, 7, 3766, 5, 723, 36, 71, 43, 530, 476, 26, 400, 317, 46, 7, 4, 2, 1029, 13, 104, 88, 4, 381, 15, 297, 98, 32, 2071, 56, 26, 141, 6, 194, 7486, 18, 4, 226, 22, 21, 134, 476, 26, 480, 5, 144, 30, 5535, 18, 51, 36, 28, 224, 92, 25, 104, 4, 226, 65, 16, 38, 1334, 88, 12, 16, 283, 5, 16, 4472, 113, 103, 32, 15, 16, 5345, 19, 178, 32]\n",
      "\n",
      "First label: 1\n"
     ]
    }
   ],
   "source": [
    "# Data preview\n",
    "print(f\"First data: {train_data[0]}\\n\")\n",
    "print(f\"First label: {train_labels[0]}\")"
   ]
  },
  {
   "cell_type": "code",
   "execution_count": 5,
   "metadata": {},
   "outputs": [
    {
     "data": {
      "text/plain": [
       "9999"
      ]
     },
     "execution_count": 5,
     "metadata": {},
     "output_type": "execute_result"
    }
   ],
   "source": [
    "# Double check if the words are the top 10000\n",
    "max([max(sequence) for sequence in train_data])"
   ]
  },
  {
   "cell_type": "code",
   "execution_count": 6,
   "metadata": {},
   "outputs": [],
   "source": [
    "# Change numbers back to words\n",
    "word_index = imdb.get_word_index()"
   ]
  },
  {
   "cell_type": "code",
   "execution_count": 7,
   "metadata": {},
   "outputs": [
    {
     "name": "stdout",
     "output_type": "stream",
     "text": [
      "('fawn', 34701)\n"
     ]
    }
   ],
   "source": [
    "# See how the dict are made\n",
    "for i in word_index.items():\n",
    "    print(i)\n",
    "    break"
   ]
  },
  {
   "cell_type": "code",
   "execution_count": 8,
   "metadata": {},
   "outputs": [],
   "source": [
    "# Change the key-value order\n",
    "reverse_word_index = {value: key for key, value in word_index.items()}"
   ]
  },
  {
   "cell_type": "code",
   "execution_count": 9,
   "metadata": {},
   "outputs": [
    {
     "name": "stdout",
     "output_type": "stream",
     "text": [
      "(34701, 'fawn')\n"
     ]
    }
   ],
   "source": [
    "# See how the dict are made\n",
    "for i in reverse_word_index.items():\n",
    "    print(i)\n",
    "    break"
   ]
  },
  {
   "cell_type": "code",
   "execution_count": 10,
   "metadata": {},
   "outputs": [
    {
     "data": {
      "text/plain": [
       "'footwork'"
      ]
     },
     "execution_count": 10,
     "metadata": {},
     "output_type": "execute_result"
    }
   ],
   "source": [
    "reverse_word_index.get(34701 - 3, '?')"
   ]
  },
  {
   "cell_type": "code",
   "execution_count": 11,
   "metadata": {},
   "outputs": [
    {
     "name": "stdout",
     "output_type": "stream",
     "text": [
      "First data: ? this film was just brilliant casting location scenery story direction everyone's really suited the part they played and you could just imagine being there robert ? is an amazing actor and now the same being director ? father came from the same scottish island as myself so i loved the fact there was a real connection with this film the witty remarks throughout the film were great it was just brilliant so much that i bought the film as soon as it was released for ? and would recommend it to everyone to watch and the fly fishing was amazing really cried at the end it was so sad and you know what they say if you cry at a film it must have been good and this definitely was also ? to the two little boy's that played the ? of norman and paul they were just brilliant children are often left out of the ? list i think because the stars that play them all grown up are such a big profile for the whole film but these children are amazing and should be praised for what they have done don't you think the whole story was so lovely because it was true and was someone's life after all that was shared with us all\n",
      "\n",
      "First label: 1\n"
     ]
    }
   ],
   "source": [
    "# Reverse the first data preview\n",
    "decoded_first = ' '.join([reverse_word_index.get(i - 3, '?') for i in train_data[0]]) # Since the dataset keep 0, 1, 2 for specific purpose, so i - 3 is needed to get the corresponding word\n",
    "print(f\"First data: {decoded_first}\\n\")\n",
    "print(f\"First label: {train_labels[0]}\")"
   ]
  },
  {
   "cell_type": "markdown",
   "metadata": {},
   "source": [
    "### Data preparation"
   ]
  },
  {
   "cell_type": "code",
   "execution_count": 12,
   "metadata": {},
   "outputs": [
    {
     "name": "stdout",
     "output_type": "stream",
     "text": [
      "Review 0 - length 218\n",
      "Review 1 - length 189\n",
      "Review 2 - length 141\n",
      "Review 3 - length 550\n",
      "Review 4 - length 147\n",
      "Review 5 - length 43\n",
      "Review 6 - length 123\n",
      "Review 7 - length 562\n",
      "Review 8 - length 233\n",
      "Review 9 - length 130\n"
     ]
    }
   ],
   "source": [
    "for idx, item in enumerate(train_data):\n",
    "    if idx == 10:\n",
    "        break\n",
    "    print(f\"Review {idx} - length {len(item)}\")"
   ]
  },
  {
   "cell_type": "code",
   "execution_count": 14,
   "metadata": {},
   "outputs": [
    {
     "name": "stdout",
     "output_type": "stream",
     "text": [
      "Training data shape: (25000, 10000)\n",
      "Test data shape: (25000, 10000)\n"
     ]
    }
   ],
   "source": [
    "# Since each review is in different length, we need to make them the same length \n",
    "# so that the neural network is able to handle the input dataset\n",
    "\n",
    "# Apply one-hot encoding to the dataset\n",
    "def verctorize_sequence(sequences, dimension=10000):\n",
    "    # Zeros vectors\n",
    "    results = np.zeros((len(sequences), dimension))\n",
    "    # Set corresponding word as 1 if the sequence has it\n",
    "    for idx, sequence in enumerate(sequences):\n",
    "        results[idx, sequence] = 1.\n",
    "    return results\n",
    "\n",
    "x_train = verctorize_sequence(train_data)\n",
    "x_test = verctorize_sequence(test_data)\n",
    "print(f\"Training data shape: {x_train.shape}\")\n",
    "print(f\"Test data shape: {x_test.shape}\")"
   ]
  },
  {
   "cell_type": "code",
   "execution_count": 15,
   "metadata": {},
   "outputs": [
    {
     "data": {
      "text/plain": [
       "array([0., 1., 1., ..., 0., 0., 0.])"
      ]
     },
     "execution_count": 15,
     "metadata": {},
     "output_type": "execute_result"
    }
   ],
   "source": [
    "x_train[0]"
   ]
  },
  {
   "cell_type": "code",
   "execution_count": 16,
   "metadata": {},
   "outputs": [
    {
     "name": "stdout",
     "output_type": "stream",
     "text": [
      "Review 0 - length 10000\n",
      "Review 1 - length 10000\n",
      "Review 2 - length 10000\n",
      "Review 3 - length 10000\n",
      "Review 4 - length 10000\n",
      "Review 5 - length 10000\n",
      "Review 6 - length 10000\n",
      "Review 7 - length 10000\n",
      "Review 8 - length 10000\n",
      "Review 9 - length 10000\n"
     ]
    }
   ],
   "source": [
    "# Check again\n",
    "for idx, item in enumerate(x_train):\n",
    "    if idx == 10:\n",
    "        break\n",
    "    print(f\"Review {idx} - length {len(item)}\")"
   ]
  },
  {
   "cell_type": "code",
   "execution_count": 18,
   "metadata": {},
   "outputs": [],
   "source": [
    "# Transform the labels as vectors\n",
    "y_train = np.asarray(train_labels).astype('float32')\n",
    "y_test = np.asarray(test_labels).astype('float32')"
   ]
  },
  {
   "cell_type": "markdown",
   "metadata": {},
   "source": [
    "### Model Training"
   ]
  },
  {
   "cell_type": "markdown",
   "metadata": {},
   "source": [
    "#### Define the model"
   ]
  },
  {
   "cell_type": "code",
   "execution_count": 20,
   "metadata": {},
   "outputs": [],
   "source": [
    "from tensorflow import keras\n",
    "from tensorflow.keras import layers"
   ]
  },
  {
   "cell_type": "code",
   "execution_count": 23,
   "metadata": {},
   "outputs": [],
   "source": [
    "# Model structure\n",
    "model = keras.Sequential([\n",
    "    layers.Dense(16, activation = 'relu'),\n",
    "    layers.Dense(16, activation = 'relu'),\n",
    "    layers.Dense(1, activation = 'sigmoid')\n",
    "])"
   ]
  },
  {
   "cell_type": "code",
   "execution_count": 25,
   "metadata": {},
   "outputs": [],
   "source": [
    "# Compile the model\n",
    "model.compile(\n",
    "    optimizer = 'rmsprop',\n",
    "    loss = 'binary_crossentropy',\n",
    "    metrics = ['accuracy']\n",
    ")"
   ]
  },
  {
   "cell_type": "markdown",
   "metadata": {},
   "source": [
    "#### Training"
   ]
  },
  {
   "cell_type": "code",
   "execution_count": 26,
   "metadata": {},
   "outputs": [],
   "source": [
    "# Spilt the validation set\n",
    "val_num = 10000\n",
    "x_val = x_train[:val_num]\n",
    "partial_x_train = x_train[val_num:]\n",
    "y_val = y_train[:val_num]\n",
    "partial_y_train = y_train[val_num:]"
   ]
  },
  {
   "cell_type": "code",
   "execution_count": 27,
   "metadata": {},
   "outputs": [
    {
     "name": "stdout",
     "output_type": "stream",
     "text": [
      "Epoch 1/20\n"
     ]
    },
    {
     "name": "stderr",
     "output_type": "stream",
     "text": [
      "2023-11-25 08:51:35.397809: I tensorflow/core/grappler/optimizers/custom_graph_optimizer_registry.cc:114] Plugin optimizer for device_type GPU is enabled.\n"
     ]
    },
    {
     "name": "stdout",
     "output_type": "stream",
     "text": [
      "30/30 [==============================] - ETA: 0s - loss: 0.4961 - accuracy: 0.7877"
     ]
    },
    {
     "name": "stderr",
     "output_type": "stream",
     "text": [
      "2023-11-25 08:51:37.464748: I tensorflow/core/grappler/optimizers/custom_graph_optimizer_registry.cc:114] Plugin optimizer for device_type GPU is enabled.\n"
     ]
    },
    {
     "name": "stdout",
     "output_type": "stream",
     "text": [
      "30/30 [==============================] - 3s 57ms/step - loss: 0.4961 - accuracy: 0.7877 - val_loss: 0.4096 - val_accuracy: 0.8269\n",
      "Epoch 2/20\n",
      "30/30 [==============================] - 1s 18ms/step - loss: 0.3049 - accuracy: 0.8995 - val_loss: 0.3101 - val_accuracy: 0.8844\n",
      "Epoch 3/20\n",
      "30/30 [==============================] - 1s 18ms/step - loss: 0.2285 - accuracy: 0.9257 - val_loss: 0.3074 - val_accuracy: 0.8742\n",
      "Epoch 4/20\n",
      "30/30 [==============================] - 1s 18ms/step - loss: 0.1789 - accuracy: 0.9421 - val_loss: 0.2755 - val_accuracy: 0.8870\n",
      "Epoch 5/20\n",
      "30/30 [==============================] - 1s 18ms/step - loss: 0.1487 - accuracy: 0.9550 - val_loss: 0.2908 - val_accuracy: 0.8828\n",
      "Epoch 6/20\n",
      "30/30 [==============================] - 1s 18ms/step - loss: 0.1228 - accuracy: 0.9623 - val_loss: 0.2979 - val_accuracy: 0.8866\n",
      "Epoch 7/20\n",
      "30/30 [==============================] - 1s 18ms/step - loss: 0.1016 - accuracy: 0.9719 - val_loss: 0.3896 - val_accuracy: 0.8641\n",
      "Epoch 8/20\n",
      "30/30 [==============================] - 1s 19ms/step - loss: 0.0869 - accuracy: 0.9767 - val_loss: 0.3434 - val_accuracy: 0.8828\n",
      "Epoch 9/20\n",
      "30/30 [==============================] - 1s 19ms/step - loss: 0.0785 - accuracy: 0.9793 - val_loss: 0.3612 - val_accuracy: 0.8791\n",
      "Epoch 10/20\n",
      "30/30 [==============================] - 1s 18ms/step - loss: 0.0630 - accuracy: 0.9849 - val_loss: 0.3934 - val_accuracy: 0.8800\n",
      "Epoch 11/20\n",
      "30/30 [==============================] - 1s 18ms/step - loss: 0.0536 - accuracy: 0.9884 - val_loss: 0.4304 - val_accuracy: 0.8701\n",
      "Epoch 12/20\n",
      "30/30 [==============================] - 1s 18ms/step - loss: 0.0491 - accuracy: 0.9885 - val_loss: 0.4505 - val_accuracy: 0.8769\n",
      "Epoch 13/20\n",
      "30/30 [==============================] - 1s 19ms/step - loss: 0.0425 - accuracy: 0.9909 - val_loss: 0.4833 - val_accuracy: 0.8751\n",
      "Epoch 14/20\n",
      "30/30 [==============================] - 1s 18ms/step - loss: 0.0359 - accuracy: 0.9930 - val_loss: 0.5507 - val_accuracy: 0.8688\n",
      "Epoch 15/20\n",
      "30/30 [==============================] - 1s 23ms/step - loss: 0.0313 - accuracy: 0.9947 - val_loss: 0.5496 - val_accuracy: 0.8731\n",
      "Epoch 16/20\n",
      "30/30 [==============================] - 1s 18ms/step - loss: 0.0306 - accuracy: 0.9936 - val_loss: 0.5798 - val_accuracy: 0.8704\n",
      "Epoch 17/20\n",
      "30/30 [==============================] - 1s 19ms/step - loss: 0.0199 - accuracy: 0.9979 - val_loss: 0.6477 - val_accuracy: 0.8650\n",
      "Epoch 18/20\n",
      "30/30 [==============================] - 1s 18ms/step - loss: 0.0237 - accuracy: 0.9961 - val_loss: 0.6510 - val_accuracy: 0.8682\n",
      "Epoch 19/20\n",
      "30/30 [==============================] - 1s 19ms/step - loss: 0.0180 - accuracy: 0.9969 - val_loss: 0.6832 - val_accuracy: 0.8652\n",
      "Epoch 20/20\n",
      "30/30 [==============================] - 1s 18ms/step - loss: 0.0130 - accuracy: 0.9984 - val_loss: 0.7421 - val_accuracy: 0.8638\n"
     ]
    }
   ],
   "source": [
    "# Training\n",
    "history = model.fit(\n",
    "    partial_x_train,\n",
    "    partial_y_train,\n",
    "    epochs = 20,\n",
    "    batch_size = 512,\n",
    "    validation_data = (x_val, y_val)\n",
    ")"
   ]
  },
  {
   "cell_type": "markdown",
   "metadata": {},
   "source": [
    "#### Evaluation"
   ]
  },
  {
   "cell_type": "code",
   "execution_count": 28,
   "metadata": {},
   "outputs": [
    {
     "data": {
      "image/png": "[encoded data removed]",
      "text/plain": [
       "<Figure size 1200x800 with 1 Axes>"
      ]
     },
     "metadata": {},
     "output_type": "display_data"
    }
   ],
   "source": [
    "history_dict = history.history\n",
    "\n",
    "# Get loss values\n",
    "loss_values = history_dict['loss']\n",
    "val_loss_values = history_dict['val_loss']\n",
    "# Plot\n",
    "epochs = [i+1 for i in range(20)] # X label\n",
    "fix, ax = plt.subplots(figsize = (12, 8))\n",
    "ax.plot(epochs, loss_values, 'bo', label = 'Training loss')\n",
    "ax.plot(epochs, val_loss_values, 'b', label = 'Validation loss')\n",
    "ax.set_title('Training and validation loss')\n",
    "ax.set_xlabel('Epochs')\n",
    "ax.set_ylabel('Loss')\n",
    "ax.legend();\n"
   ]
  },
  {
   "cell_type": "code",
   "execution_count": null,
   "metadata": {},
   "outputs": [],
   "source": []
  }
 ],
 "metadata": {
  "kernelspec": {
   "display_name": "Python 3",
   "language": "python",
   "name": "python3"
  },
  "language_info": {
   "codemirror_mode": {
    "name": "ipython",
    "version": 3
   },
   "file_extension": ".py",
   "mimetype": "text/x-python",
   "name": "python",
   "nbconvert_exporter": "python",
   "pygments_lexer": "ipython3",
   "version": "3.10.13"
  }
 },
 "nbformat": 4,
 "nbformat_minor": 2
}
