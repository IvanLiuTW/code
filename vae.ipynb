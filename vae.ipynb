{
 "cells": [
  {
   "cell_type": "markdown",
   "metadata": {},
   "source": [
    "# VAE"
   ]
  },
  {
   "cell_type": "code",
   "execution_count": 1,
   "metadata": {},
   "outputs": [],
   "source": [
    "# Packages\n",
    "import numpy as np\n",
    "import pandas as pd\n",
    "from pathlib import Path\n",
    "import matplotlib.pyplot as plt\n",
    "\n",
    "import tensorflow as tf\n",
    "import keras\n",
    "from keras import layers"
   ]
  },
  {
   "cell_type": "code",
   "execution_count": 2,
   "metadata": {},
   "outputs": [
    {
     "data": {
      "text/plain": [
       "[PhysicalDevice(name='/physical_device:GPU:0', device_type='GPU')]"
      ]
     },
     "execution_count": 2,
     "metadata": {},
     "output_type": "execute_result"
    }
   ],
   "source": [
    "tf.config.list_physical_devices('GPU')"
   ]
  },
  {
   "cell_type": "markdown",
   "metadata": {},
   "source": [
    "## Load images"
   ]
  },
  {
   "cell_type": "code",
   "execution_count": 7,
   "metadata": {},
   "outputs": [
    {
     "name": "stdout",
     "output_type": "stream",
     "text": [
      "Monet TFRecord Files: 5\n",
      "Photo TFRecord Files: 20\n"
     ]
    }
   ],
   "source": [
    "image_path = \"/Users/ivanliu/Desktop/gan-getting-started\"\n",
    "MONET_FILENAMES = tf.io.gfile.glob(str(image_path + '/monet_tfrec/*.tfrec'))\n",
    "print('Monet TFRecord Files:', len(MONET_FILENAMES))\n",
    "\n",
    "PHOTO_FILENAMES = tf.io.gfile.glob(str(image_path + '/photo_tfrec/*.tfrec'))\n",
    "print('Photo TFRecord Files:', len(PHOTO_FILENAMES))"
   ]
  },
  {
   "cell_type": "code",
   "execution_count": null,
   "metadata": {},
   "outputs": [],
   "source": []
  },
  {
   "cell_type": "markdown",
   "metadata": {},
   "source": [
    "## Create a sampling layer"
   ]
  },
  {
   "cell_type": "code",
   "execution_count": null,
   "metadata": {},
   "outputs": [],
   "source": []
  },
  {
   "cell_type": "code",
   "execution_count": 10,
   "metadata": {},
   "outputs": [
    {
     "name": "stderr",
     "output_type": "stream",
     "text": [
      "2024-02-19 20:18:20.679100: I metal_plugin/src/device/metal_device.cc:1154] Metal device set to: Apple M1 Pro\n",
      "2024-02-19 20:18:20.679127: I metal_plugin/src/device/metal_device.cc:296] systemMemory: 16.00 GB\n",
      "2024-02-19 20:18:20.679141: I metal_plugin/src/device/metal_device.cc:313] maxCacheSize: 5.33 GB\n",
      "2024-02-19 20:18:20.679212: I tensorflow/core/common_runtime/pluggable_device/pluggable_device_factory.cc:306] Could not identify NUMA node of platform GPU ID 0, defaulting to 0. Your kernel may not have been built with NUMA support.\n",
      "2024-02-19 20:18:20.679258: I tensorflow/core/common_runtime/pluggable_device/pluggable_device_factory.cc:272] Created TensorFlow device (/job:localhost/replica:0/task:0/device:GPU:0 with 0 MB memory) -> physical PluggableDevice (device: 0, name: METAL, pci bus id: <undefined>)\n"
     ]
    },
    {
     "name": "stdout",
     "output_type": "stream",
     "text": [
      "Model: \"encoder\"\n",
      "__________________________________________________________________________________________________\n",
      " Layer (type)                Output Shape                 Param #   Connected to                  \n",
      "==================================================================================================\n",
      " input_3 (InputLayer)        [(None, 256, 256, 3)]        0         []                            \n",
      "                                                                                                  \n",
      " conv2d_2 (Conv2D)           (None, 128, 128, 32)         896       ['input_3[0][0]']             \n",
      "                                                                                                  \n",
      " conv2d_3 (Conv2D)           (None, 64, 64, 64)           18496     ['conv2d_2[0][0]']            \n",
      "                                                                                                  \n",
      " flatten (Flatten)           (None, 262144)               0         ['conv2d_3[0][0]']            \n",
      "                                                                                                  \n",
      " dense (Dense)               (None, 16)                   4194320   ['flatten[0][0]']             \n",
      "                                                                                                  \n",
      " z_mean (Dense)              (None, 2)                    34        ['dense[0][0]']               \n",
      "                                                                                                  \n",
      " z_log_var (Dense)           (None, 2)                    34        ['dense[0][0]']               \n",
      "                                                                                                  \n",
      "==================================================================================================\n",
      "Total params: 4213780 (16.07 MB)\n",
      "Trainable params: 4213780 (16.07 MB)\n",
      "Non-trainable params: 0 (0.00 Byte)\n",
      "__________________________________________________________________________________________________\n"
     ]
    }
   ],
   "source": [
    "# Build the encoder\n",
    "\n",
    "# Potential latent space, a 2D plane\n",
    "latent_dim = 2\n",
    "\n",
    "encoder_inputs = keras.Input(shape=(256, 256, 3))\n",
    "# Use stride to reduce the size of the feature map\n",
    "x = layers.Conv2D(32, 3, activation='relu', strides=2, padding='same')(encoder_inputs) \n",
    "x = layers.Conv2D(64, 3, activation='relu', strides=2, padding='same')(x)\n",
    "x = layers.Flatten()(x)\n",
    "x = layers.Dense(16, activation='relu')(x)\n",
    "# The input image would be encoded as the two parameters\n",
    "z_mean = layers.Dense(latent_dim, name='z_mean')(x)\n",
    "z_log_var = layers.Dense(latent_dim, name='z_log_var')(x)\n",
    "# Create an encoder with two outputs\n",
    "encoder = keras.Model(encoder_inputs, [z_mean, z_log_var], name='encoder')\n",
    "encoder.summary()"
   ]
  },
  {
   "cell_type": "code",
   "execution_count": null,
   "metadata": {},
   "outputs": [],
   "source": [
    "# Create a sampling layer in the latent space\n",
    "class Sampler(layers.Layer):\n",
    "\n",
    "    def call(self, z_mean, z_log_var):\n",
    "        batch_size = tf.shape(z_mean)[0]\n",
    "        z_size = tf.shape(z_mean)[-1]\n",
    "        epsilon = tf.random.normal(shape=(batch_size, z_size))\n",
    "        return z_mean + tf.exp(0.5 * z_log_var) * epsilon # VAE formula to sample z points"
   ]
  },
  {
   "cell_type": "code",
   "execution_count": 13,
   "metadata": {},
   "outputs": [
    {
     "name": "stdout",
     "output_type": "stream",
     "text": [
      "Model: \"decoder\"\n",
      "_________________________________________________________________\n",
      " Layer (type)                Output Shape              Param #   \n",
      "=================================================================\n",
      " input_4 (InputLayer)        [(None, 2)]               0         \n",
      "                                                                 \n",
      " dense_1 (Dense)             (None, 262144)            786432    \n",
      "                                                                 \n",
      " reshape (Reshape)           (None, 64, 64, 64)        0         \n",
      "                                                                 \n",
      " conv2d_transpose (Conv2DTr  (None, 128, 128, 64)      36928     \n",
      " anspose)                                                        \n",
      "                                                                 \n",
      " conv2d_transpose_1 (Conv2D  (None, 256, 256, 32)      18464     \n",
      " Transpose)                                                      \n",
      "                                                                 \n",
      " conv2d_4 (Conv2D)           (None, 256, 256, 1)       289       \n",
      "                                                                 \n",
      "=================================================================\n",
      "Total params: 842113 (3.21 MB)\n",
      "Trainable params: 842113 (3.21 MB)\n",
      "Non-trainable params: 0 (0.00 Byte)\n",
      "_________________________________________________________________\n"
     ]
    }
   ],
   "source": [
    "# VAE decoders: to decode z points back to images\n",
    "\n",
    "# The input is the sampling z points from the latent space\n",
    "latent_inputs = keras.Input(shape=(latent_dim,))\n",
    "\n",
    "# The unit is the same as the encoder \"flatten\" layer\n",
    "x = layers.Dense(64**3, activation='relu')(latent_inputs)\n",
    "# Restore the flatten operation\n",
    "x = layers.Reshape((64, 64, 64))(x)\n",
    "# Restore the Conv2D operation\n",
    "x = layers.Conv2DTranspose(64, 3, activation='relu', strides=2, padding='same')(x)\n",
    "x = layers.Conv2DTranspose(32, 3, activation='relu', strides=2, padding='same')(x)\n",
    "# The final output shape is (256, 256, 1)\n",
    "decoder_outputs = layers.Conv2D(1, 3, activation='sigmoid', padding='same')(x)\n",
    "decoder = keras.Model(latent_inputs, decoder_outputs, name='decoder')\n",
    "decoder.summary()"
   ]
  },
  {
   "cell_type": "code",
   "execution_count": null,
   "metadata": {},
   "outputs": [],
   "source": [
    "# Create a custom VAE model\n",
    "\n",
    "class VAE(keras.Model):\n",
    "    def __init__(self, encoder, decoder, **kwargs):\n",
    "        super().__init__(**kwargs)\n",
    "        self.encoder = encoder\n",
    "        self.decoder = decoder\n",
    "        self.sampler = Sampler()\n",
    "        self.total_loss_tracker = keras.metrics.Mean(name='total_loss')\n",
    "        self.reconstruction_loss = keras.metrics.Mean(name='reconstruction_loss')\n",
    "\n",
    "        "
   ]
  },
  {
   "cell_type": "code",
   "execution_count": null,
   "metadata": {},
   "outputs": [],
   "source": []
  },
  {
   "cell_type": "code",
   "execution_count": 12,
   "metadata": {},
   "outputs": [
    {
     "data": {
      "text/plain": [
       "262144"
      ]
     },
     "execution_count": 12,
     "metadata": {},
     "output_type": "execute_result"
    }
   ],
   "source": [
    "64**3"
   ]
  },
  {
   "cell_type": "code",
   "execution_count": null,
   "metadata": {},
   "outputs": [],
   "source": []
  }
 ],
 "metadata": {
  "kernelspec": {
   "display_name": "deep",
   "language": "python",
   "name": "python3"
  },
  "language_info": {
   "codemirror_mode": {
    "name": "ipython",
    "version": 3
   },
   "file_extension": ".py",
   "mimetype": "text/x-python",
   "name": "python",
   "nbconvert_exporter": "python",
   "pygments_lexer": "ipython3",
   "version": "3.10.13"
  }
 },
 "nbformat": 4,
 "nbformat_minor": 2
}
