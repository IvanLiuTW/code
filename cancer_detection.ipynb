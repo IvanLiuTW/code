{
 "cells": [
  {
   "cell_type": "markdown",
   "metadata": {},
   "source": [
    "# Histopathologic Cancer Detection"
   ]
  },
  {
   "cell_type": "code",
   "execution_count": 1,
   "metadata": {},
   "outputs": [],
   "source": [
    "# Packages\n",
    "import pandas as pd\n",
    "import numpy as np\n",
    "import matplotlib.pyplot as plt\n",
    "from pathlib import Path\n",
    "from re import findall\n",
    "import tensorflow as tf\n",
    "from tensorflow.keras import layers, models"
   ]
  },
  {
   "cell_type": "code",
   "execution_count": 6,
   "metadata": {},
   "outputs": [
    {
     "data": {
      "text/plain": [
       "[PhysicalDevice(name='/physical_device:GPU:0', device_type='GPU')]"
      ]
     },
     "execution_count": 6,
     "metadata": {},
     "output_type": "execute_result"
    }
   ],
   "source": [
    "tf.config.list_physical_devices('GPU')"
   ]
  },
  {
   "cell_type": "markdown",
   "metadata": {},
   "source": [
    "## I. Brief Introduction\n",
    "\n",
    "* Goal:\n",
    "\n",
    "    The task of the project is to predict if tumors are on small pathology images. A positive label indicates that the center 32x32px region of a patch contains at least one pixel of tumor tissue.\n",
    "\n",
    "* Data description\n",
    "\n",
    "    1. Data for training and testing is named with an image ID, and we have 220,000 images for training. There are 57,500 images we need to predict if tumors are in the image.\n",
    "\n",
    "    2. "
   ]
  },
  {
   "cell_type": "markdown",
   "metadata": {},
   "source": [
    "## Load"
   ]
  },
  {
   "cell_type": "code",
   "execution_count": 2,
   "metadata": {},
   "outputs": [
    {
     "data": {
      "text/plain": [
       "PosixPath('/Users/ivanliu/Library/CloudStorage/OneDrive-GiantGroup/model training')"
      ]
     },
     "execution_count": 2,
     "metadata": {},
     "output_type": "execute_result"
    }
   ],
   "source": [
    "Path.cwd()"
   ]
  },
  {
   "cell_type": "code",
   "execution_count": 26,
   "metadata": {},
   "outputs": [
    {
     "name": "stdout",
     "output_type": "stream",
     "text": [
      "Number of images: 220025\n"
     ]
    }
   ],
   "source": [
    "# Training images\n",
    "train_images = Path.cwd() /'CNN/train/'\n",
    "train_image_path = [i.as_posix() for i in train_images.glob('*.tif')]\n",
    "print(f\"Number of images: {len(train_image_path)}\")"
   ]
  },
  {
   "cell_type": "code",
   "execution_count": 21,
   "metadata": {},
   "outputs": [
    {
     "data": {
      "text/plain": [
       "'/Users/ivanliu/Library/CloudStorage/OneDrive-GiantGroup/model training/CNN/train/f0c2a0b8ef3024f407fa97d852d49be0215cafe0.tif'"
      ]
     },
     "execution_count": 21,
     "metadata": {},
     "output_type": "execute_result"
    }
   ],
   "source": [
    "train_image_path[0]"
   ]
  },
  {
   "cell_type": "code",
   "execution_count": 27,
   "metadata": {},
   "outputs": [
    {
     "name": "stdout",
     "output_type": "stream",
     "text": [
      "Image data type: <class 'numpy.ndarray'>\n",
      "Image data shape: (96, 96, 3)\n"
     ]
    }
   ],
   "source": [
    "# Show the training data information\n",
    "img = plt.imread(train_image_path[0])\n",
    "print(f\"Image data type: {type(img)}\")\n",
    "print(f\"Image data shape: {img.shape}\")"
   ]
  },
  {
   "cell_type": "code",
   "execution_count": 29,
   "metadata": {},
   "outputs": [],
   "source": [
    "# Create a dataframe to store the training data\n",
    "df = pd.DataFrame({'path' : train_image_path})\n",
    "df['image_id'] = df['path'].apply(lambda x: findall(r'[^\\/]+(?=\\.)', x)[0])\n",
    "df['data'] = df['path'].apply(lambda x: plt.imread(x))"
   ]
  },
  {
   "cell_type": "code",
   "execution_count": 30,
   "metadata": {},
   "outputs": [
    {
     "data": {
      "text/html": [
       "<div>\n",
       "<style scoped>\n",
       "    .dataframe tbody tr th:only-of-type {\n",
       "        vertical-align: middle;\n",
       "    }\n",
       "\n",
       "    .dataframe tbody tr th {\n",
       "        vertical-align: top;\n",
       "    }\n",
       "\n",
       "    .dataframe thead th {\n",
       "        text-align: right;\n",
       "    }\n",
       "</style>\n",
       "<table border=\"1\" class=\"dataframe\">\n",
       "  <thead>\n",
       "    <tr style=\"text-align: right;\">\n",
       "      <th></th>\n",
       "      <th>path</th>\n",
       "      <th>image_id</th>\n",
       "      <th>data</th>\n",
       "    </tr>\n",
       "  </thead>\n",
       "  <tbody>\n",
       "    <tr>\n",
       "      <th>0</th>\n",
       "      <td>/Users/ivanliu/Library/CloudStorage/OneDrive-G...</td>\n",
       "      <td>f0c2a0b8ef3024f407fa97d852d49be0215cafe0</td>\n",
       "      <td>[[[212, 227, 224], [213, 225, 225], [215, 223,...</td>\n",
       "    </tr>\n",
       "    <tr>\n",
       "      <th>1</th>\n",
       "      <td>/Users/ivanliu/Library/CloudStorage/OneDrive-G...</td>\n",
       "      <td>99ef485f205645918613cd04281098daa7c17819</td>\n",
       "      <td>[[[193, 139, 175], [136, 84, 122], [125, 78, 1...</td>\n",
       "    </tr>\n",
       "    <tr>\n",
       "      <th>2</th>\n",
       "      <td>/Users/ivanliu/Library/CloudStorage/OneDrive-G...</td>\n",
       "      <td>e2612e173abd0e8bb54a3c3db3f264b63d80bffb</td>\n",
       "      <td>[[[149, 73, 148], [178, 107, 185], [237, 174, ...</td>\n",
       "    </tr>\n",
       "    <tr>\n",
       "      <th>3</th>\n",
       "      <td>/Users/ivanliu/Library/CloudStorage/OneDrive-G...</td>\n",
       "      <td>6d1bb57c0606f05dbd75f90a8d9e21a57e1267e0</td>\n",
       "      <td>[[[134, 49, 152], [184, 101, 189], [223, 144, ...</td>\n",
       "    </tr>\n",
       "    <tr>\n",
       "      <th>4</th>\n",
       "      <td>/Users/ivanliu/Library/CloudStorage/OneDrive-G...</td>\n",
       "      <td>9c043ab2adadfeb758c71d21432fccd3e43565c0</td>\n",
       "      <td>[[[119, 41, 125], [181, 108, 187], [234, 168, ...</td>\n",
       "    </tr>\n",
       "  </tbody>\n",
       "</table>\n",
       "</div>"
      ],
      "text/plain": [
       "                                                path  \\\n",
       "0  /Users/ivanliu/Library/CloudStorage/OneDrive-G...   \n",
       "1  /Users/ivanliu/Library/CloudStorage/OneDrive-G...   \n",
       "2  /Users/ivanliu/Library/CloudStorage/OneDrive-G...   \n",
       "3  /Users/ivanliu/Library/CloudStorage/OneDrive-G...   \n",
       "4  /Users/ivanliu/Library/CloudStorage/OneDrive-G...   \n",
       "\n",
       "                                   image_id  \\\n",
       "0  f0c2a0b8ef3024f407fa97d852d49be0215cafe0   \n",
       "1  99ef485f205645918613cd04281098daa7c17819   \n",
       "2  e2612e173abd0e8bb54a3c3db3f264b63d80bffb   \n",
       "3  6d1bb57c0606f05dbd75f90a8d9e21a57e1267e0   \n",
       "4  9c043ab2adadfeb758c71d21432fccd3e43565c0   \n",
       "\n",
       "                                                data  \n",
       "0  [[[212, 227, 224], [213, 225, 225], [215, 223,...  \n",
       "1  [[[193, 139, 175], [136, 84, 122], [125, 78, 1...  \n",
       "2  [[[149, 73, 148], [178, 107, 185], [237, 174, ...  \n",
       "3  [[[134, 49, 152], [184, 101, 189], [223, 144, ...  \n",
       "4  [[[119, 41, 125], [181, 108, 187], [234, 168, ...  "
      ]
     },
     "execution_count": 30,
     "metadata": {},
     "output_type": "execute_result"
    }
   ],
   "source": [
    "df.head()"
   ]
  },
  {
   "cell_type": "code",
   "execution_count": 31,
   "metadata": {},
   "outputs": [
    {
     "name": "stdout",
     "output_type": "stream",
     "text": [
      "<class 'pandas.core.frame.DataFrame'>\n",
      "RangeIndex: 220025 entries, 0 to 220024\n",
      "Data columns (total 3 columns):\n",
      " #   Column    Non-Null Count   Dtype \n",
      "---  ------    --------------   ----- \n",
      " 0   path      220025 non-null  object\n",
      " 1   image_id  220025 non-null  object\n",
      " 2   data      220025 non-null  object\n",
      "dtypes: object(3)\n",
      "memory usage: 5.0+ MB\n"
     ]
    }
   ],
   "source": [
    "df.info()"
   ]
  },
  {
   "cell_type": "code",
   "execution_count": 56,
   "metadata": {},
   "outputs": [
    {
     "data": {
      "text/plain": [
       "(1, 96, 96, 3)"
      ]
     },
     "execution_count": 56,
     "metadata": {},
     "output_type": "execute_result"
    }
   ],
   "source": [
    "df['data'][0].reshape(-1, 96, 96, 3).shape"
   ]
  },
  {
   "cell_type": "code",
   "execution_count": 62,
   "metadata": {},
   "outputs": [
    {
     "name": "stdout",
     "output_type": "stream",
     "text": [
      "Training data shape: (220025, 96, 96, 3)\n"
     ]
    }
   ],
   "source": [
    "# Convert the training images as tensor\n",
    "img_array = df['data'].apply(lambda x: x.reshape(-1, 96, 96, 3)).values\n",
    "# Concatenate all images\n",
    "train_images = np.concatenate(img_array)\n",
    "# Data info\n",
    "print(f\"Training data shape: {train_images.shape}\")"
   ]
  },
  {
   "cell_type": "code",
   "execution_count": null,
   "metadata": {},
   "outputs": [],
   "source": []
  }
 ],
 "metadata": {
  "kernelspec": {
   "display_name": "deep",
   "language": "python",
   "name": "python3"
  },
  "language_info": {
   "codemirror_mode": {
    "name": "ipython",
    "version": 3
   },
   "file_extension": ".py",
   "mimetype": "text/x-python",
   "name": "python",
   "nbconvert_exporter": "python",
   "pygments_lexer": "ipython3",
   "version": "3.9.18"
  },
  "orig_nbformat": 4
 },
 "nbformat": 4,
 "nbformat_minor": 2
}
